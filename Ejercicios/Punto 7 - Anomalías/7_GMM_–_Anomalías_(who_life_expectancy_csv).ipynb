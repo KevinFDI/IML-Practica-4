{
  "nbformat": 4,
  "nbformat_minor": 0,
  "metadata": {
    "colab": {
      "provenance": [],
      "collapsed_sections": [
        "NURpI6e1tIsz"
      ]
    },
    "kernelspec": {
      "name": "python3",
      "display_name": "Python 3"
    },
    "language_info": {
      "name": "python"
    }
  },
  "cells": [
    {
      "cell_type": "code",
      "execution_count": 461,
      "metadata": {
        "id": "ALz7q67aqEps"
      },
      "outputs": [],
      "source": [
        "import pandas as pd\n",
        "\n",
        "import numpy as np\n",
        "\n",
        "import matplotlib.pyplot as plt\n",
        "import matplotlib.cm as cm\n",
        "from matplotlib.colors import LogNorm\n",
        "\n",
        "from sklearn.preprocessing import StandardScaler\n",
        "from sklearn.cluster import DBSCAN\n",
        "from sklearn.cluster import KMeans\n",
        "from sklearn.mixture import GaussianMixture\n",
        "from sklearn.metrics import silhouette_samples, silhouette_score\n",
        "from sklearn import metrics"
      ]
    },
    {
      "cell_type": "markdown",
      "source": [
        "# **AA_utils**"
      ],
      "metadata": {
        "id": "NURpI6e1tIsz"
      }
    },
    {
      "cell_type": "code",
      "source": [
        "def graficar_curva_elbow(X, N, GMM=False):\n",
        "    plt.figure()\n",
        "    Nc = range(1, N+1)\n",
        "    if (GMM):\n",
        "        kmeans = [GaussianMixture(n_components=i) for i in Nc]\n",
        "    else:\n",
        "        kmeans = [KMeans(n_clusters=i) for i in Nc]\n",
        "\n",
        "    # score = [kmeans[i].fit(X).score(X) for i in range(len(kmeans))]\n",
        "    if (GMM):\n",
        "        score = [kmeans[i].fit(X).score(X) for i in range(len(kmeans))]\n",
        "        scoreBIC = [kmeans[i].fit(X).bic(X) for i in range(len(kmeans))]\n",
        "    else:\n",
        "        score = [kmeans[i].fit(X).inertia_ for i in range(len(kmeans))]\n",
        "\n",
        "    plt.plot(Nc, score, 'b')\n",
        "    plt.xlabel('Number of Clusters')\n",
        "    plt.title('Elbow Curve')\n",
        "    plt.grid()\n",
        "    if (GMM):\n",
        "        plt.ylabel('log(verosimilitud)')\n",
        "        plt.figure()\n",
        "        plt.plot(Nc, scoreBIC, 'r--')\n",
        "        plt.title('BIC Curve')\n",
        "        plt.xlabel('Number of Clusters')\n",
        "        plt.ylabel('Bayesian information criterion')\n",
        "        plt.grid()\n",
        "    else:\n",
        "        plt.ylabel('Promedio de sumas de distancias')\n",
        "    plt.show()\n",
        "\n",
        "\n",
        "# índice Silhouette\n",
        "def graficar_indice_silhouette(X, N, GMM=False):\n",
        "\n",
        "    plt.figure()\n",
        "    Nc = range(2, N+1)\n",
        "    if (GMM):\n",
        "        # kmeans = [GaussianMixture(n_components=i) for i in Nc]\n",
        "        print(\"Sin terminar silhouette para GMM\")\n",
        "    else:\n",
        "        kmeans = [KMeans(n_clusters=i) for i in Nc]\n",
        "\n",
        "    # score = [kmeans[i].fit(X).score(X) for i in range(len(kmeans))]\n",
        "    score = [silhouette_score(X, kmeans[i].fit(X).predict(X))\n",
        "             for i in range(len(kmeans))]\n",
        "    score\n",
        "    plt.plot(Nc, score)\n",
        "    plt.xlabel('Número de Clusters')\n",
        "    plt.ylabel('Promedio de índice silhouette')\n",
        "    plt.title('Índice silhouette para distintos K')\n",
        "    plt.grid()\n",
        "    plt.show()\n",
        "\n",
        "\n",
        "def graficar_indice_silhouette_k(X, n_clusters):\n",
        "\n",
        "    # Compute the silhouette scores for each sample\n",
        "    clusterer = KMeans(n_clusters=n_clusters)\n",
        "    cluster_labels = clusterer.fit_predict(X)\n",
        "    cluster_labels = clusterer.predict(X)\n",
        "    silhouette_avg = silhouette_score(X, cluster_labels)\n",
        "    sample_silhouette_values = silhouette_samples(X, cluster_labels)\n",
        "    plt.figure()\n",
        "    ax1 = plt.gca()\n",
        "    y_lower = 10\n",
        "    for i in range(n_clusters):\n",
        "        # Aggregate the silhouette scores for samples belonging to\n",
        "        # cluster i, and sort them\n",
        "        ith_cluster_silhouette_values = \\\n",
        "            sample_silhouette_values[cluster_labels == i]\n",
        "\n",
        "        ith_cluster_silhouette_values.sort()\n",
        "\n",
        "        size_cluster_i = ith_cluster_silhouette_values.shape[0]\n",
        "        y_upper = y_lower + size_cluster_i\n",
        "\n",
        "        color = cm.nipy_spectral(float(i) / n_clusters)\n",
        "        ax1.fill_betweenx(np.arange(y_lower, y_upper),\n",
        "                          0, ith_cluster_silhouette_values,\n",
        "                          facecolor=color, edgecolor=color, alpha=0.7)\n",
        "\n",
        "        # Label the silhouette plots with their cluster numbers at the middle\n",
        "        ax1.text(-0.05, y_lower + 0.5 * size_cluster_i, str(i))\n",
        "\n",
        "        # Compute the new y_lower for next plot\n",
        "        y_lower = y_upper + 10  # 10 for the 0 samples\n",
        "\n",
        "    ax1.set_title(\"Silhouette plot para cada Cluster.\")\n",
        "    ax1.set_xlabel(\"Coeficientes silhouette\")\n",
        "    ax1.set_ylabel(\"Cluster label\")\n",
        "\n",
        "    # The vertical line for average silhouette score of all the values\n",
        "    ax1.axvline(x=silhouette_avg, color=\"red\", linestyle=\"--\")\n",
        "\n",
        "    ax1.set_yticks([])  # Clear the yaxis labels / ticks\n",
        "    ax1.set_xticks([-0.1, 0, 0.2, 0.4, 0.6, 0.8, 1])\n",
        "    plt.show()\n",
        "\n",
        "\n",
        "def graficar_GMM(data, modelo, labels=False, probs=False):\n",
        "    # display predicted scores by the model as a contour plot\n",
        "    cant_points = 200\n",
        "    x = np.linspace(min(data[:, 0])*0.9, max(data[:, 0])*1.1, cant_points)\n",
        "    y = np.linspace(min(data[:, 1])*0.9, max(data[:, 1])*1.1, cant_points)\n",
        "    X, Y = np.meshgrid(x, y)\n",
        "    XX = np.array([X.ravel(), Y.ravel()]).T\n",
        "    if (probs):\n",
        "        Z = np.exp(modelo.score_samples(XX))\n",
        "    else:\n",
        "        Z = -modelo.score_samples(XX)\n",
        "    Z = Z.reshape(X.shape)\n",
        "\n",
        "    centros = modelo.means_\n",
        "    cant_gauss = centros.shape[0]\n",
        "    if (probs):\n",
        "        CS = plt.contour(X, Y, Z, levels=np.linspace(\n",
        "            0, np.max(Z), cant_gauss*10),  linewidths=2)\n",
        "        plt.title('Probabilidades de la GMM')\n",
        "    else:\n",
        "        CS = plt.contour(X, Y, Z, norm=LogNorm(vmin=1.0, vmax=100.0),\n",
        "                         levels=np.logspace(0, 3, 20),  linewidths=2)\n",
        "        plt.title('Negative log-likelihood de la GMM')\n",
        "    plt.colorbar(CS, shrink=0.5)\n",
        "    if (labels):\n",
        "        etiq = modelo.predict(data)\n",
        "        plt.scatter(data[:, 0], data[:, 1], s=30, c=etiq)\n",
        "    else:\n",
        "        plt.scatter(data[:, 0], data[:, 1], s=30)\n",
        "    plt.scatter(centros[:, 0], centros[:, 1],\n",
        "                marker='o', c='red', s=100, alpha=0.8)\n",
        "    plt.grid()\n",
        "    plt.axis('tight')\n",
        "    plt.show()\n",
        "\n",
        "\n",
        "def visualizar_clustering_2D(data, labels, centers):\n",
        "    values = data.to_numpy()\n",
        "    plt.figure()\n",
        "    plt.scatter(values[:, 0], values[:, 1], c=labels, s=50, cmap='viridis')\n",
        "    plt.scatter(centers[:, 0], centers[:, 1],\n",
        "                marker='*', c='red', s=600, alpha=0.8)\n",
        "    plt.show()\n",
        "\n",
        "\n",
        "def graficar_DBSCAN_2D(data, labels, db, EPS, MINSAM, n_clusters_):\n",
        "    plt.figure()\n",
        "    noise_maks = labels == -1\n",
        "    core_samples_mask = np.zeros_like(db.labels_, dtype=bool)\n",
        "    core_samples_mask[db.core_sample_indices_] = True\n",
        "    # plot RUIDO\n",
        "    x = data[noise_maks]  # datos RUIDO (outliers)\n",
        "    plt.scatter(x[:, 0], x[:, 1], color=[0.2, 0.2, 0.2, 0.8],\n",
        "                s=20, cmap='viridis', label='ruido', marker='x')\n",
        "    # plot datos CORE en clusters\n",
        "    x = data[~noise_maks & core_samples_mask]\n",
        "    plt.scatter(x[:, 0], x[:, 1], c=labels[~noise_maks &\n",
        "                core_samples_mask], s=30, cmap='viridis', label='Cores')\n",
        "    # plot datos NO CORE en clusters\n",
        "    x = data[~noise_maks & ~core_samples_mask]\n",
        "    plt.scatter(x[:, 0], x[:, 1], c=labels[~noise_maks & ~core_samples_mask],\n",
        "                s=20, cmap='viridis', label='Borders', marker='D')\n",
        "\n",
        "    title = \"eps= {}, min_samples= {}, #clusters= {}\".format(\n",
        "        EPS, MINSAM, n_clusters_)\n",
        "    plt.title(title)\n",
        "    plt.legend()\n",
        "    plt.show()"
      ],
      "metadata": {
        "id": "5VLsXjedtHuc"
      },
      "execution_count": 462,
      "outputs": []
    },
    {
      "cell_type": "markdown",
      "source": [
        "# **WHO LIFE EXPENTANCY**"
      ],
      "metadata": {
        "id": "uRbbfENN_48k"
      }
    },
    {
      "cell_type": "code",
      "source": [
        "\n",
        "plt.close('all')\n",
        "\n",
        "# cargar dataset\n",
        "df = pd.read_csv(\"https://raw.githubusercontent.com/KevinFDI/IML_Practica_4/main/datasets/who_life_expectancy.csv\")\n",
        "df= df.dropna()\n",
        "df = df.drop([\"Country\", \"Year\", \"Status\"],axis=1)\n",
        "data = df.values\n",
        "\n",
        "# fit a Gaussian Mixture Model\n",
        "k = 1\n",
        "modelo = GaussianMixture(n_components=k, verbose=True, covariance_type='full')\n",
        "modelo.fit(data)\n",
        "print('Score de todo el modelo: ', modelo.score(data))\n",
        "\n",
        "# visualizar scores\n",
        "scores = modelo.score_samples(data)\n",
        "# scores= np.exp(scores) # Convertir a probabilidades\n",
        "\n",
        "#  detectar anómalos\n",
        "u_scores = np.mean(scores)\n",
        "s_scores = np.std(scores)\n",
        "linea_de_corte = u_scores - 4*s_scores\n",
        "anomalos_ind = scores < linea_de_corte\n",
        "anomalos = data[anomalos_ind]\n",
        "print(\"Cantidad de Datos anómalos:\", len(anomalos))\n",
        "\n",
        "plt.figure()\n",
        "plt.title('log likelihood')\n",
        "plt.plot(scores, 'o')\n",
        "plt.hlines(linea_de_corte, 0, data.shape[0],\n",
        "           color='r', linestyle='--', linewidth=3)\n",
        "plt.grid()\n",
        "plt.show()"
      ],
      "metadata": {
        "colab": {
          "base_uri": "https://localhost:8080/",
          "height": 350
        },
        "id": "BT8o8sDGFBCK",
        "outputId": "30f3e716-b5cb-432b-a0f2-b5143dc3946a"
      },
      "execution_count": 463,
      "outputs": [
        {
          "output_type": "stream",
          "name": "stdout",
          "text": [
            "Initialization 0\n",
            "Initialization converged: True\n",
            "Score de todo el modelo:  -98.0337696940499\n",
            "Cantidad de Datos anómalos: 22\n"
          ]
        },
        {
          "output_type": "display_data",
          "data": {
            "text/plain": [
              "<Figure size 432x288 with 1 Axes>"
            ],
            "image/png": "[encoded data removed]"
          },
          "metadata": {
            "needs_background": "light"
          }
        }
      ]
    },
    {
      "cell_type": "markdown",
      "source": [
        "**Detección de anomalías con Gaussian Mixture Models**"
      ],
      "metadata": {
        "id": "IU6aWUEY_8Vs"
      }
    },
    {
      "cell_type": "markdown",
      "source": [
        "**Carga del dataset**"
      ],
      "metadata": {
        "id": "aq5JqebBABh7"
      }
    },
    {
      "cell_type": "code",
      "source": [
        "df = pd.read_csv(\"https://raw.githubusercontent.com/KevinFDI/IML_Practica_4/main/datasets/who_life_expectancy.csv\")"
      ],
      "metadata": {
        "id": "yEEYya7GCo0K"
      },
      "execution_count": 464,
      "outputs": []
    },
    {
      "cell_type": "code",
      "source": [
        "plt.close('all')"
      ],
      "metadata": {
        "id": "es2NdAmzEUPL"
      },
      "execution_count": 465,
      "outputs": []
    },
    {
      "cell_type": "code",
      "source": [
        "df.head(2)"
      ],
      "metadata": {
        "colab": {
          "base_uri": "https://localhost:8080/",
          "height": 186
        },
        "id": "suX3U2jGDhly",
        "outputId": "645adcc8-f8fe-4b93-dbc4-48ea1801aec5"
      },
      "execution_count": 466,
      "outputs": [
        {
          "output_type": "execute_result",
          "data": {
            "text/plain": [
              "       Country  Year      Status  Life expectancy   Adult Mortality  \\\n",
              "0  Afghanistan  2015  Developing              65.0            263.0   \n",
              "1  Afghanistan  2014  Developing              59.9            271.0   \n",
              "\n",
              "   infant deaths  Alcohol  percentage expenditure  Hepatitis B  Measles   ...  \\\n",
              "0             62     0.01               71.279624         65.0      1154  ...   \n",
              "1             64     0.01               73.523582         62.0       492  ...   \n",
              "\n",
              "   Polio  Total expenditure  Diphtheria    HIV/AIDS         GDP  Population  \\\n",
              "0    6.0               8.16         65.0        0.1  584.259210  33736494.0   \n",
              "1   58.0               8.18         62.0        0.1  612.696514    327582.0   \n",
              "\n",
              "    thinness  1-19 years   thinness 5-9 years  \\\n",
              "0                   17.2                 17.3   \n",
              "1                   17.5                 17.5   \n",
              "\n",
              "   Income composition of resources  Schooling  \n",
              "0                            0.479       10.1  \n",
              "1                            0.476       10.0  \n",
              "\n",
              "[2 rows x 22 columns]"
            ],
            "text/html": [
              "\n",
              "  <div id=\"df-13eda6a7-ad46-4a3f-9131-a4f807c11bcd\">\n",
              "    <div class=\"colab-df-container\">\n",
              "      <div>\n",
              "<style scoped>\n",
              "    .dataframe tbody tr th:only-of-type {\n",
              "        vertical-align: middle;\n",
              "    }\n",
              "\n",
              "    .dataframe tbody tr th {\n",
              "        vertical-align: top;\n",
              "    }\n",
              "\n",
              "    .dataframe thead th {\n",
              "        text-align: right;\n",
              "    }\n",
              "</style>\n",
              "<table border=\"1\" class=\"dataframe\">\n",
              "  <thead>\n",
              "    <tr style=\"text-align: right;\">\n",
              "      <th></th>\n",
              "      <th>Country</th>\n",
              "      <th>Year</th>\n",
              "      <th>Status</th>\n",
              "      <th>Life expectancy</th>\n",
              "      <th>Adult Mortality</th>\n",
              "      <th>infant deaths</th>\n",
              "      <th>Alcohol</th>\n",
              "      <th>percentage expenditure</th>\n",
              "      <th>Hepatitis B</th>\n",
              "      <th>Measles</th>\n",
              "      <th>...</th>\n",
              "      <th>Polio</th>\n",
              "      <th>Total expenditure</th>\n",
              "      <th>Diphtheria</th>\n",
              "      <th>HIV/AIDS</th>\n",
              "      <th>GDP</th>\n",
              "      <th>Population</th>\n",
              "      <th>thinness  1-19 years</th>\n",
              "      <th>thinness 5-9 years</th>\n",
              "      <th>Income composition of resources</th>\n",
              "      <th>Schooling</th>\n",
              "    </tr>\n",
              "  </thead>\n",
              "  <tbody>\n",
              "    <tr>\n",
              "      <th>0</th>\n",
              "      <td>Afghanistan</td>\n",
              "      <td>2015</td>\n",
              "      <td>Developing</td>\n",
              "      <td>65.0</td>\n",
              "      <td>263.0</td>\n",
              "      <td>62</td>\n",
              "      <td>0.01</td>\n",
              "      <td>71.279624</td>\n",
              "      <td>65.0</td>\n",
              "      <td>1154</td>\n",
              "      <td>...</td>\n",
              "      <td>6.0</td>\n",
              "      <td>8.16</td>\n",
              "      <td>65.0</td>\n",
              "      <td>0.1</td>\n",
              "      <td>584.259210</td>\n",
              "      <td>33736494.0</td>\n",
              "      <td>17.2</td>\n",
              "      <td>17.3</td>\n",
              "      <td>0.479</td>\n",
              "      <td>10.1</td>\n",
              "    </tr>\n",
              "    <tr>\n",
              "      <th>1</th>\n",
              "      <td>Afghanistan</td>\n",
              "      <td>2014</td>\n",
              "      <td>Developing</td>\n",
              "      <td>59.9</td>\n",
              "      <td>271.0</td>\n",
              "      <td>64</td>\n",
              "      <td>0.01</td>\n",
              "      <td>73.523582</td>\n",
              "      <td>62.0</td>\n",
              "      <td>492</td>\n",
              "      <td>...</td>\n",
              "      <td>58.0</td>\n",
              "      <td>8.18</td>\n",
              "      <td>62.0</td>\n",
              "      <td>0.1</td>\n",
              "      <td>612.696514</td>\n",
              "      <td>327582.0</td>\n",
              "      <td>17.5</td>\n",
              "      <td>17.5</td>\n",
              "      <td>0.476</td>\n",
              "      <td>10.0</td>\n",
              "    </tr>\n",
              "  </tbody>\n",
              "</table>\n",
              "<p>2 rows × 22 columns</p>\n",
              "</div>\n",
              "      <button class=\"colab-df-convert\" onclick=\"convertToInteractive('df-13eda6a7-ad46-4a3f-9131-a4f807c11bcd')\"\n",
              "              title=\"Convert this dataframe to an interactive table.\"\n",
              "              style=\"display:none;\">\n",
              "        \n",
              "  <svg xmlns=\"http://www.w3.org/2000/svg\" height=\"24px\"viewBox=\"0 0 24 24\"\n",
              "       width=\"24px\">\n",
              "    <path d=\"M0 0h24v24H0V0z\" fill=\"none\"/>\n",
              "    <path d=\"M18.56 5.44l.94 2.06.94-2.06 2.06-.94-2.06-.94-.94-2.06-.94 2.06-2.06.94zm-11 1L8.5 8.5l.94-2.06 2.06-.94-2.06-.94L8.5 2.5l-.94 2.06-2.06.94zm10 10l.94 2.06.94-2.06 2.06-.94-2.06-.94-.94-2.06-.94 2.06-2.06.94z\"/><path d=\"M17.41 7.96l-1.37-1.37c-.4-.4-.92-.59-1.43-.59-.52 0-1.04.2-1.43.59L10.3 9.45l-7.72 7.72c-.78.78-.78 2.05 0 2.83L4 21.41c.39.39.9.59 1.41.59.51 0 1.02-.2 1.41-.59l7.78-7.78 2.81-2.81c.8-.78.8-2.07 0-2.86zM5.41 20L4 18.59l7.72-7.72 1.47 1.35L5.41 20z\"/>\n",
              "  </svg>\n",
              "      </button>\n",
              "      \n",
              "  <style>\n",
              "    .colab-df-container {\n",
              "      display:flex;\n",
              "      flex-wrap:wrap;\n",
              "      gap: 12px;\n",
              "    }\n",
              "\n",
              "    .colab-df-convert {\n",
              "      background-color: #E8F0FE;\n",
              "      border: none;\n",
              "      border-radius: 50%;\n",
              "      cursor: pointer;\n",
              "      display: none;\n",
              "      fill: #1967D2;\n",
              "      height: 32px;\n",
              "      padding: 0 0 0 0;\n",
              "      width: 32px;\n",
              "    }\n",
              "\n",
              "    .colab-df-convert:hover {\n",
              "      background-color: #E2EBFA;\n",
              "      box-shadow: 0px 1px 2px rgba(60, 64, 67, 0.3), 0px 1px 3px 1px rgba(60, 64, 67, 0.15);\n",
              "      fill: #174EA6;\n",
              "    }\n",
              "\n",
              "    [theme=dark] .colab-df-convert {\n",
              "      background-color: #3B4455;\n",
              "      fill: #D2E3FC;\n",
              "    }\n",
              "\n",
              "    [theme=dark] .colab-df-convert:hover {\n",
              "      background-color: #434B5C;\n",
              "      box-shadow: 0px 1px 3px 1px rgba(0, 0, 0, 0.15);\n",
              "      filter: drop-shadow(0px 1px 2px rgba(0, 0, 0, 0.3));\n",
              "      fill: #FFFFFF;\n",
              "    }\n",
              "  </style>\n",
              "\n",
              "      <script>\n",
              "        const buttonEl =\n",
              "          document.querySelector('#df-13eda6a7-ad46-4a3f-9131-a4f807c11bcd button.colab-df-convert');\n",
              "        buttonEl.style.display =\n",
              "          google.colab.kernel.accessAllowed ? 'block' : 'none';\n",
              "\n",
              "        async function convertToInteractive(key) {\n",
              "          const element = document.querySelector('#df-13eda6a7-ad46-4a3f-9131-a4f807c11bcd');\n",
              "          const dataTable =\n",
              "            await google.colab.kernel.invokeFunction('convertToInteractive',\n",
              "                                                     [key], {});\n",
              "          if (!dataTable) return;\n",
              "\n",
              "          const docLinkHtml = 'Like what you see? Visit the ' +\n",
              "            '<a target=\"_blank\" href=https://colab.research.google.com/notebooks/data_table.ipynb>data table notebook</a>'\n",
              "            + ' to learn more about interactive tables.';\n",
              "          element.innerHTML = '';\n",
              "          dataTable['output_type'] = 'display_data';\n",
              "          await google.colab.output.renderOutput(dataTable, element);\n",
              "          const docLink = document.createElement('div');\n",
              "          docLink.innerHTML = docLinkHtml;\n",
              "          element.appendChild(docLink);\n",
              "        }\n",
              "      </script>\n",
              "    </div>\n",
              "  </div>\n",
              "  "
            ]
          },
          "metadata": {},
          "execution_count": 466
        }
      ]
    },
    {
      "cell_type": "markdown",
      "source": [
        "**Renombro los nombres de las columnas**"
      ],
      "metadata": {
        "id": "y4VWgSZuDBiz"
      }
    },
    {
      "cell_type": "code",
      "source": [
        "df.rename(columns={\n",
        "    \"Life expectancy \": \"Life_Expectancy\",\t\n",
        "    \"Adult Mortality\": \"Adult_Mortality\",\t\n",
        "    \"infant deaths\": \"Infant_Deaths\",\t\n",
        "    \"percentage expenditure\": \"Percentage_Expenditure\",\t\n",
        "    \"Hepatitis B\": \"Hepatitis_B\",\t\n",
        "    \"Measles \": \"Measles\", \n",
        "    \" BMI \": \"BMI\", \n",
        "    \"under-five deaths \": \"Under_Five_Deaths\",\n",
        "    \"Total expenditure\": \"Total_Expenditure\",\t\n",
        "    \" HIV/AIDS\": \"HIV/AIDS\",\n",
        "    \"Diphtheria \": \"Diphtheria\",\t\t\n",
        "    \" thinness  1-19 years\": \"Thinness_1-19_years\",\n",
        "    \" thinness 5-9 years\": \"Thinness_5-9_years\",\n",
        "    \"Income composition of resources\": \"Income_Composition_of_Resources\"\n",
        "    },\n",
        "    inplace=True)"
      ],
      "metadata": {
        "id": "mlwnJeTFC-l7"
      },
      "execution_count": 467,
      "outputs": []
    },
    {
      "cell_type": "markdown",
      "source": [
        "**Elimino los valores nulos**"
      ],
      "metadata": {
        "id": "FFE-TimjDTFi"
      }
    },
    {
      "cell_type": "code",
      "source": [
        "df = df.dropna()"
      ],
      "metadata": {
        "id": "t_EjRVwxDYMy"
      },
      "execution_count": 468,
      "outputs": []
    },
    {
      "cell_type": "markdown",
      "source": [
        "**Al igual que en otros trabajos (ejm. el TP 2) elimino los strings y la columna de Year**"
      ],
      "metadata": {
        "id": "hozdlB24DIeD"
      }
    },
    {
      "cell_type": "code",
      "source": [
        "df = df.drop([\"Country\", \"Year\", \"Status\"], axis=1)"
      ],
      "metadata": {
        "id": "Wk0a9GDYDOKk"
      },
      "execution_count": 469,
      "outputs": []
    },
    {
      "cell_type": "markdown",
      "source": [
        "**Normalizo**"
      ],
      "metadata": {
        "id": "VRczWAOIv8oi"
      }
    },
    {
      "cell_type": "code",
      "source": [
        "NORMALIZAR = 1\n",
        "if (NORMALIZAR):\n",
        "    scaler_GMM = StandardScaler()\n",
        "    scaler_GMM.fit(df)\n",
        "    df = scaler_GMM.transform(df)"
      ],
      "metadata": {
        "id": "FMqn1Pdkv93G"
      },
      "execution_count": 470,
      "outputs": []
    },
    {
      "cell_type": "code",
      "source": [
        "data = pd.DataFrame(df).values"
      ],
      "metadata": {
        "id": "WFaDXBHTEdgB"
      },
      "execution_count": 471,
      "outputs": []
    },
    {
      "cell_type": "markdown",
      "source": [
        "**Fit a Gaussian Mixture Model**"
      ],
      "metadata": {
        "id": "npC81wMSAH5V"
      }
    },
    {
      "cell_type": "code",
      "source": [
        "k = 1\n",
        "modelo = GaussianMixture(n_components = k, verbose = True, covariance_type = \"full\")\n",
        "modelo.fit(data)\n",
        "print('Score de todo el modelo: ', modelo.score(data))"
      ],
      "metadata": {
        "colab": {
          "base_uri": "https://localhost:8080/"
        },
        "id": "Uj5KWrPWAKoz",
        "outputId": "ecda4739-7655-4bf9-cf09-c3683b8aa5a7"
      },
      "execution_count": 472,
      "outputs": [
        {
          "output_type": "stream",
          "name": "stdout",
          "text": [
            "Initialization 0\n",
            "Initialization converged: True\n",
            "Score de todo el modelo:  -18.21033160433209\n"
          ]
        }
      ]
    },
    {
      "cell_type": "markdown",
      "source": [
        "**Graficar GMM**"
      ],
      "metadata": {
        "id": "rmBE9df1AOwz"
      }
    },
    {
      "cell_type": "code",
      "source": [
        "# Quice graficar como en el modelo de Motores el GMM pero me saltaba error, probé las siguientes opciones y no encontré la solución:\n",
        "# graficar_GMM(pd.DataFrame(df), modelo, probs = False, labels = False)\n",
        "# graficar_GMM(pd.DataFrame(data), modelo, probs = False, labels = False)\n",
        "# graficar_GMM(data, modelo, probs = False, labels = False)\n",
        "# graficar_GMM(df, modelo, probs = False, labels = False)"
      ],
      "metadata": {
        "id": "zrH8p5AVANlC"
      },
      "execution_count": 473,
      "outputs": []
    },
    {
      "cell_type": "markdown",
      "source": [
        "**Visualizar scores**"
      ],
      "metadata": {
        "id": "enOaWsRAAVck"
      }
    },
    {
      "cell_type": "code",
      "source": [
        "scores = modelo.score_samples(data)"
      ],
      "metadata": {
        "id": "KnEiOt5EAXE0"
      },
      "execution_count": 474,
      "outputs": []
    },
    {
      "cell_type": "code",
      "source": [
        "# scores= np.exp(scores) # Convertir a probabilidades"
      ],
      "metadata": {
        "id": "fHx-vPhuAZ_6"
      },
      "execution_count": 475,
      "outputs": []
    },
    {
      "cell_type": "markdown",
      "source": [
        "# **Detectar anónamlos por GMM**"
      ],
      "metadata": {
        "id": "_-Mcdx8lAcuK"
      }
    },
    {
      "cell_type": "code",
      "source": [
        "u_scores = np.mean(scores)\n",
        "s_scores = np.std(scores)\n",
        "linea_de_corte = u_scores - 4*s_scores\n",
        "anomalos_ind = scores < linea_de_corte\n",
        "anomalos = data[anomalos_ind]\n",
        "print('Datos anómalos'), print(anomalos)"
      ],
      "metadata": {
        "colab": {
          "base_uri": "https://localhost:8080/"
        },
        "id": "MtU-us-nAiMq",
        "outputId": "484a0b16-aa04-41b4-eca8-338dffdf81aa"
      },
      "execution_count": 476,
      "outputs": [
        {
          "output_type": "stream",
          "name": "stdout",
          "text": [
            "Datos anómalos\n",
            "[[ 5.91039029e-01 -5.68483347e-01  1.93233912e+00 -6.53421116e-02\n",
            "  -3.75135057e-01  6.16570480e-01  1.28156099e+01 -5.88842974e-01\n",
            "   1.61978592e+00  6.87737834e-01 -5.94219284e-01  5.95418511e-01\n",
            "  -3.12388615e-01 -1.82593067e-01 -1.89227077e-01 -7.62612960e-02\n",
            "  -1.95119277e-01  2.20991362e-01 -7.86858867e-02]\n",
            " [ 5.22811982e-01 -5.52518141e-01  2.47864906e+00 -4.00498771e-01\n",
            "  -2.99832379e-01  1.86830924e-01  1.20993366e+01 -7.10372676e-01\n",
            "   2.13560246e+00  1.53067804e-01 -5.63767132e-01  1.31868573e-01\n",
            "  -3.12388615e-01 -3.32328672e-01 -2.07842936e-01  3.24855711e-02\n",
            "  -1.09141139e-01  1.33787574e-02 -5.43878759e-01]\n",
            " [-1.48087308e-01  1.26003143e-01  7.65203863e+00 -3.63259142e-01\n",
            "  -3.48242151e-01 -8.50523736e-03  7.67038322e+00 -1.01419693e+00\n",
            "   7.09726629e+00  1.94002972e-02 -5.50716210e-01  3.91585849e-02\n",
            "  -2.95806325e-01 -3.48044529e-01  1.81604680e+01  4.77384897e+00\n",
            "   4.83460181e+00 -1.34135462e-01 -1.86038088e-01]\n",
            " [-1.93572005e-01  1.49950953e-01  8.00796784e+00 -3.53328575e-01\n",
            "  -3.58959885e-01 -2.82134596e+00  1.15023316e+00 -1.04457936e+00\n",
            "   7.71133360e+00 -6.97113743e-02 -6.20321129e-01 -5.35514029e-02\n",
            "  -2.95806325e-01 -3.58584896e-01  1.60710061e+00  4.77384897e+00\n",
            "   4.85609634e+00 -1.77843378e-01 -2.21822155e-01]\n",
            " [-2.27685529e-01 -1.19112641e+00  8.83571017e+00 -3.55811216e-01\n",
            "  -3.60496626e-01 -2.42908631e-01  1.63085632e+00 -1.06989805e+00\n",
            "   8.32540091e+00 -2.03378882e-01 -6.81225433e-01 -9.99063967e-02\n",
            "  -2.95806325e-01 -3.59039026e-01  1.58594224e+00  4.79559835e+00\n",
            "   4.87759088e+00 -2.27014785e-01 -2.93390289e-01]\n",
            " [-3.30026098e-01  2.21794383e-01  9.66345250e+00 -4.37738400e-01\n",
            "  -3.64611064e-01 -1.61026176e+00  2.89936028e+00 -1.12559916e+00\n",
            "   9.55353552e+00 -3.37046389e-01 -7.29078815e-01 -2.38971378e-01\n",
            "  -2.95806325e-01 -3.67861391e-01 -3.20125793e-02  4.81734772e+00\n",
            "   4.92057995e+00 -3.41748066e-01 -6.15446893e-01]\n",
            " [-3.75510796e-01 -1.32683066e+00  1.04911948e+01 -5.04769732e-01\n",
            "  -3.96958564e-01 -1.64932899e+00  5.35206577e+00 -1.15091785e+00\n",
            "   1.01676028e+01 -4.70713896e-01 -6.85575741e-01 -4.70746348e-01\n",
            "  -2.95806325e-01 -4.83482487e-01  1.51582884e+00  4.81734772e+00\n",
            "   4.92057995e+00 -3.74529004e-01 -5.79662826e-01]\n",
            " [-4.32366668e-01 -1.15919599e+00  1.04911948e+01 -6.46280321e-01\n",
            "  -3.72971331e-01 -1.96186685e+00  4.16885604e+00 -1.17623653e+00\n",
            "   1.07816701e+01 -6.48937239e-01 -7.02976971e-01 -3.57653094e+00\n",
            "  -2.79224036e-01 -3.98743010e-01  1.49151794e+00  4.81734772e+00\n",
            "   4.94207448e+00 -4.12773431e-01 -6.87015027e-01]\n",
            " [-4.66480191e-01 -1.13524818e+00  1.13189372e+01 -7.30690147e-01\n",
            "  -3.94462064e-01 -2.86041320e+00  3.86001153e+00 -1.20155522e+00\n",
            "   1.13957374e+01 -7.38048911e-01 -7.50830353e-01 -9.34296286e-01\n",
            "  -2.79224036e-01 -4.74866292e-01  1.65395192e+01  4.83909709e+00\n",
            "   4.96356902e+00 -4.67408327e-01 -7.94367228e-01]\n",
            " [-5.11964889e-01 -1.11928298e+00  1.21466795e+01 -7.85308269e-01\n",
            "  -3.77617391e-01 -2.86041320e+00  6.14520308e+00 -1.22687391e+00\n",
            "   1.20098047e+01 -7.82604746e-01 -7.42129738e-01 -8.87941293e-01\n",
            "  -2.79224036e-01 -4.16108564e-01  1.62881880e+01  4.83909709e+00\n",
            "   4.96356902e+00 -5.22043223e-01 -8.65935362e-01]\n",
            " [-5.57449586e-01  3.41533433e-01  1.21466795e+01 -8.10134688e-01\n",
            "  -3.95442980e-01 -2.78227873e+00  3.42034944e+00 -1.24712886e+00\n",
            "   1.20098047e+01 -8.27160582e-01 -7.29078815e-01 -8.87941293e-01\n",
            "  -2.79224036e-01 -4.78383194e-01  1.60346490e+01  4.86084647e+00\n",
            "   4.98506355e+00 -5.76678119e-01 -9.73287564e-01]\n",
            " [-6.02934284e-01  3.65481243e-01  1.29744218e+01 -8.27513182e-01\n",
            "  -3.81894093e-01 -2.86041320e+00  5.27817714e+00 -1.27244755e+00\n",
            "   1.26238721e+01 -1.13905143e+00 -7.55180660e-01 -9.80651280e-01\n",
            "  -2.79224036e-01 -4.31008762e-01  1.57793516e+01  4.86084647e+00\n",
            "   5.00655809e+00 -6.20386036e-01 -1.04485570e+00]\n",
            " [-1.86513464e+00  2.34516687e+00  2.02543378e-02 -8.57304885e-01\n",
            "  -3.91907196e-01  5.38436015e-01  1.15531558e+01 -1.03951562e+00\n",
            "   6.00549633e-02  1.08511969e-01 -1.93846429e+00  4.09998536e-01\n",
            "   1.94280277e+00 -4.45168826e-01 -1.86499327e-01  4.23974292e-01\n",
            "   3.85233156e-01 -1.10117312e+00 -6.87015027e-01]\n",
            " [ 1.40976359e+00 -8.79804878e-01 -2.61178055e-01 -1.12294757e+00\n",
            "   4.50748806e-01  4.99368783e-01 -2.06738797e-01  1.18852892e+00\n",
            "  -2.65400709e-01  5.54070326e-01 -1.76445199e+00  5.49063517e-01\n",
            "  -3.12388615e-01  4.06116905e+00 -2.05638391e-01 -8.37489365e-01\n",
            "  -8.61449848e-01  1.59232725e+00  2.13992627e+00]\n",
            " [ 1.37565006e+00 -1.29490025e+00 -2.61178055e-01  1.02950298e+00\n",
            "   4.41268368e-01 -1.10238774e+00  4.04161591e-02  1.15814649e+00\n",
            "  -2.65400709e-01  5.98626162e-01  2.36834009e+00  5.95418511e-01\n",
            "  -3.12388615e-01  4.01035333e+00 -1.84119439e-01 -8.37489365e-01\n",
            "  -8.61449848e-01  1.58686376e+00  2.13992627e+00]\n",
            " [ 1.34153654e+00 -8.47874464e-01 -2.61178055e-01  1.12136073e+00\n",
            "   2.63651736e-01 -3.01668213e+00 -2.19632113e-01 -1.60159049e+00\n",
            "  -2.65400709e-01  5.98626162e-01  2.23783086e+00  5.95418511e-01\n",
            "  -3.12388615e-01  3.82732889e+00  2.98319872e-02 -8.37489365e-01\n",
            "  -8.61449848e-01  1.58140027e+00  2.13992627e+00]\n",
            " [-1.17149300e+00  1.73848902e+00  4.16724342e+00  1.18342678e+00\n",
            "  -3.37399159e-01 -1.49306007e+00  7.67202482e-01 -8.67348542e-01\n",
            "   4.93574938e+00 -3.45595489e+00 -8.50887424e-01 -1.44420122e+00\n",
            "   5.00143575e-01 -3.64538481e-01 -1.86244582e-01  1.55494171e+00\n",
            "   1.50294895e+00 -8.22535151e-01 -1.04485570e+00]\n",
            " [-1.62633998e+00  1.75445422e+00  4.21690796e+00  1.24549282e+00\n",
            "  -3.38033958e-01 -1.45399283e+00  3.85317513e-02 -1.80920373e+00\n",
            "   5.02785947e+00 -1.31727478e+00 -6.46422974e-01 -1.95410615e+00\n",
            "   5.33308154e-01 -3.86073929e-01 -1.68967265e-04  1.62018983e+00\n",
            "   1.58892709e+00 -8.44389109e-01 -1.08063976e+00]\n",
            " [-2.21764105e+00  1.81831505e+00  4.27484992e+00  1.27280188e+00\n",
            "  -3.91549096e-01 -2.04000132e+00 -1.50801640e-01 -9.23049655e-01\n",
            "   5.12611024e+00 -1.67372146e+00 -9.98797877e-01 -3.71559592e+00\n",
            "   5.49890443e-01 -4.74728839e-01 -5.56696925e-03  1.68543795e+00\n",
            "   1.65341070e+00 -9.04487495e-01 -1.11642383e+00]\n",
            " [-2.28586810e+00 -1.31086546e+00  4.33279188e+00  1.28521509e+00\n",
            "  -3.93790269e-01 -2.39160641e+00  1.07810446e+01 -9.53432081e-01\n",
            "   5.21207966e+00 -1.71827730e+00 -8.03034042e-01 -2.23223611e+00\n",
            "   5.66472733e-01 -4.77505011e-01  1.76444593e+00  1.75068607e+00\n",
            "   1.71789430e+00 -9.20877964e-01 -1.15220790e+00]\n",
            " [-5.34707238e-01  7.01249193e-02  2.78491372e+00 -1.11798229e+00\n",
            "  -3.94341313e-01 -5.55446490e-01 -1.08650413e-01 -1.79907626e+00\n",
            "   2.55316823e+00 -3.41139906e+00 -1.17281018e+00 -1.02700627e+00\n",
            "  -3.12388615e-01 -4.73023045e-01  2.42881996e-02 -4.67750017e-01\n",
            "   3.48044613e+00 -6.47703484e-01 -1.72475297e+00]\n",
            " [-5.57449586e-01  7.81075226e-02  2.76835888e+00 -1.11798229e+00\n",
            "  -3.95213772e-01 -1.64774167e-01  5.71774703e-02 -1.82439495e+00\n",
            "   2.54702755e+00 -3.81602225e-01 -1.13365741e+00 -4.24391354e-01\n",
            "  -3.12388615e-01 -4.76847877e-01  2.38411604e-02 -4.46000644e-01\n",
            "   3.52343520e+00 -6.91411400e-01 -1.93945737e+00]]\n"
          ]
        },
        {
          "output_type": "execute_result",
          "data": {
            "text/plain": [
              "(None, None)"
            ]
          },
          "metadata": {},
          "execution_count": 476
        }
      ]
    },
    {
      "cell_type": "code",
      "source": [
        "plt.figure()\n",
        "plt.title('log likelihood')\n",
        "plt.plot(scores, 'o')\n",
        "plt.hlines(linea_de_corte, 0, data.shape[0],\n",
        "           color='r', linestyle='--', linewidth=3)\n",
        "plt.grid()\n",
        "plt.show()"
      ],
      "metadata": {
        "colab": {
          "base_uri": "https://localhost:8080/",
          "height": 281
        },
        "id": "sHu4JyO-HySx",
        "outputId": "6e1457f7-6999-4648-b08c-567ed4bc777a"
      },
      "execution_count": 477,
      "outputs": [
        {
          "output_type": "display_data",
          "data": {
            "text/plain": [
              "<Figure size 432x288 with 1 Axes>"
            ],
            "image/png": "[encoded data removed]"
          },
          "metadata": {
            "needs_background": "light"
          }
        }
      ]
    },
    {
      "cell_type": "markdown",
      "source": [
        "# **Detectar anónamlos por DBSCAN**"
      ],
      "metadata": {
        "id": "LCJ-4ur1HdGQ"
      }
    },
    {
      "cell_type": "code",
      "source": [
        "data_1 = pd.DataFrame(df).values"
      ],
      "metadata": {
        "id": "ShzKBfUxJFoo"
      },
      "execution_count": 478,
      "outputs": []
    },
    {
      "cell_type": "markdown",
      "source": [
        "**PARAM**"
      ],
      "metadata": {
        "id": "9_V8zPtt3SlC"
      }
    },
    {
      "cell_type": "code",
      "source": [
        "EPS_1 = 0.5     # Epsilon: distancia para considerar dos datos vecinos.\n",
        "MINSAM_1 = 5    # Min_samples: mínima cantidad de datos necesarios para considerarse un core sample."
      ],
      "metadata": {
        "id": "_TAfBMVf3SsY"
      },
      "execution_count": 479,
      "outputs": []
    },
    {
      "cell_type": "markdown",
      "source": [
        "**Compute DBSCAN**"
      ],
      "metadata": {
        "id": "ZL_MRt-Z3SyN"
      }
    },
    {
      "cell_type": "code",
      "source": [
        "db_1 = DBSCAN(eps=EPS_1, min_samples=MINSAM_1).fit(data_1)\n",
        "labels_1 = db_1.labels_"
      ],
      "metadata": {
        "id": "usyGaJXR3S3X"
      },
      "execution_count": 480,
      "outputs": []
    },
    {
      "cell_type": "markdown",
      "source": [
        "**Number of clusters in labels, ignoring noise if present**"
      ],
      "metadata": {
        "id": "_ofJCkF333gi"
      }
    },
    {
      "cell_type": "code",
      "source": [
        "n_clusters__1 = len(set(labels_1)) - (1 if -1 in labels_1 else 0)\n",
        "n_noise__1 = list(labels_1).count(-1)\n",
        "\n",
        "print('Num estimado de clusters: %d' % n_clusters__1)\n",
        "print('Num estimado de outliers: %d / %d total' % (n_noise__1, len(data_1)))\n",
        "print(\"Silhouette Coefficient: %0.3f\" % metrics.silhouette_score(data_1, labels_1))"
      ],
      "metadata": {
        "colab": {
          "base_uri": "https://localhost:8080/"
        },
        "id": "6YUlgcbQ35pB",
        "outputId": "8f6db06e-a5d8-43af-cc6f-e9657b65a6bc"
      },
      "execution_count": 481,
      "outputs": [
        {
          "output_type": "stream",
          "name": "stdout",
          "text": [
            "Num estimado de clusters: 13\n",
            "Num estimado de outliers: 1552 / 1649 total\n",
            "Silhouette Coefficient: -0.391\n"
          ]
        }
      ]
    },
    {
      "cell_type": "markdown",
      "source": [
        "**Visualizo la predicción**"
      ],
      "metadata": {
        "id": "fOoW9RFR37uY"
      }
    },
    {
      "cell_type": "code",
      "source": [
        "graficar_DBSCAN_2D(data_1, labels_1, db_1, EPS_1, MINSAM_1, n_clusters__1)"
      ],
      "metadata": {
        "colab": {
          "base_uri": "https://localhost:8080/",
          "height": 281
        },
        "id": "NR2B0wcB3-1-",
        "outputId": "87b69b57-54bc-4a99-cf3c-13f635ffbc7d"
      },
      "execution_count": 482,
      "outputs": [
        {
          "output_type": "display_data",
          "data": {
            "text/plain": [
              "<Figure size 432x288 with 1 Axes>"
            ],
            "image/png": "[encoded data removed]"
          },
          "metadata": {
            "needs_background": "light"
          }
        }
      ]
    },
    {
      "cell_type": "markdown",
      "source": [
        "# **OBSERVACION:**"
      ],
      "metadata": {
        "id": "TM5ArA99Jrhn"
      }
    },
    {
      "cell_type": "code",
      "source": [
        "print(\"Cantidad de anómalos bajo el modelo de GMM\", len(anomalos))"
      ],
      "metadata": {
        "colab": {
          "base_uri": "https://localhost:8080/"
        },
        "id": "S5eQng-xKZxQ",
        "outputId": "0023e369-2648-4107-caa0-1854e3fb2842"
      },
      "execution_count": 483,
      "outputs": [
        {
          "output_type": "stream",
          "name": "stdout",
          "text": [
            "Cantidad de anómalos bajo el modelo de GMM 22\n"
          ]
        }
      ]
    },
    {
      "cell_type": "markdown",
      "source": [
        "**En la comparacion de los datos anómalos entre el modelo de GMM y el modelo DBSCAN se puede observar que en el modelo de DBSCAN hay muchisimo mas ruido (anómalos) en comparación a los 22 del modelo de GMM. De todos modos, si se incrementa el EPS éstos disminuyen.**"
      ],
      "metadata": {
        "id": "wUxjt3pWKgzn"
      }
    }
  ]
}